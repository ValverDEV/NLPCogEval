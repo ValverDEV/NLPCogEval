{
 "metadata": {
  "language_info": {
   "codemirror_mode": {
    "name": "ipython",
    "version": 3
   },
   "file_extension": ".py",
   "mimetype": "text/x-python",
   "name": "python",
   "nbconvert_exporter": "python",
   "pygments_lexer": "ipython3",
   "version": "3.8.8"
  },
  "orig_nbformat": 4,
  "kernelspec": {
   "name": "python3",
   "display_name": "Python 3.8.8 64-bit ('base': conda)"
  },
  "interpreter": {
   "hash": "20d7836029cf290ef20ede69d6a4c56f0610fa533c696432b976114d9063b184"
  }
 },
 "nbformat": 4,
 "nbformat_minor": 2,
 "cells": [
  {
   "cell_type": "code",
   "execution_count": 1,
   "metadata": {},
   "outputs": [],
   "source": [
    "import pandas as pd"
   ]
  },
  {
   "cell_type": "code",
   "execution_count": 2,
   "metadata": {},
   "outputs": [],
   "source": [
    "primaria = pd.read_csv('palabras_corregidas_primaria.csv', encoding='latin1')\n",
    "prim_todo = pd.read_csv('primaria_todo.csv', encoding='latin1')\n",
    "secundaria = pd.read_csv('palabras_corregidas_secundaria.csv', encoding='latin1')"
   ]
  },
  {
   "cell_type": "code",
   "execution_count": 3,
   "metadata": {},
   "outputs": [
    {
     "output_type": "execute_result",
     "data": {
      "text/plain": [
       "0                                            muchos pero\n",
       "1                    es una pelota secreta porque que se\n",
       "2                                                 porque\n",
       "3                  el estomago porque es un poquito duro\n",
       "4                                  que se porta muy bien\n",
       "                             ...                        \n",
       "423                                la plata esta redonda\n",
       "424    porque la luna es color plateado y es como una...\n",
       "425                       la luna porque se ve brillante\n",
       "426             en los anillos a veces hay adentro plata\n",
       "427    yo creo que podrían ocupar la frase para decir...\n",
       "Name: clean_explica_tu_respuesta_en_la_frase_pelota_de_plata, Length: 428, dtype: object"
      ]
     },
     "metadata": {},
     "execution_count": 3
    }
   ],
   "source": [
    "primaria.iloc[:,4]"
   ]
  },
  {
   "cell_type": "code",
   "execution_count": 4,
   "metadata": {},
   "outputs": [
    {
     "output_type": "execute_result",
     "data": {
      "text/plain": [
       "0                                           muchos. pero\n",
       "1                  es una pelota secreta. porque que se?\n",
       "2                                             porque... \n",
       "3                 el estomago. porque es un poquito duro\n",
       "4                                  que se porta muy bien\n",
       "                             ...                        \n",
       "423                                la plata esta redonda\n",
       "424    porque la luna es color plateado y es como una...\n",
       "425                      la luna. porque se ve brillante\n",
       "426             en los anillos a veces hay adentro plata\n",
       "427    yo creo que podrian ocupar la frase para decir...\n",
       "Name: explica_tu_respuesta_en_la_frase_pelota_de_plata, Length: 428, dtype: object"
      ]
     },
     "metadata": {},
     "execution_count": 4
    }
   ],
   "source": [
    "prim_todo.iloc[:,21]"
   ]
  },
  {
   "cell_type": "code",
   "execution_count": 5,
   "metadata": {},
   "outputs": [],
   "source": [
    "datos = pd.DataFrame({\n",
    "    'pelota_gritos_respuesta': primaria.iloc[:,2],\n",
    "    'pelota_gritos_label' : prim_todo.iloc[:,18],\n",
    "    'pelota_pelos_respuesta' : primaria.iloc[:,3],\n",
    "    'pelota_pelos_label' : prim_todo.iloc[:,20],\n",
    "    'pelota_plata_respuesta' : primaria.iloc[:,4],\n",
    "    'pelota_plata_label' : prim_todo.iloc[:,22]\n",
    "})"
   ]
  },
  {
   "cell_type": "code",
   "execution_count": 11,
   "metadata": {},
   "outputs": [
    {
     "output_type": "execute_result",
     "data": {
      "text/plain": [
       "0                               por que hace mucho ruido\n",
       "1      que es un hermano que grita mucho más de lo no...\n",
       "2                             que es una persona gritona\n",
       "3                             porque el niño grita mucho\n",
       "4                                          es muy gritón\n",
       "                             ...                        \n",
       "465                             mi hermanito grita mucho\n",
       "466           puede significar que el hermano es ruidoso\n",
       "467                                      que grita mucho\n",
       "468    esta usando la palabra pelota para todo así qu...\n",
       "469                           es un niño que grita mucho\n",
       "Name: clean_explica_lo_que_quiere_decir_mi_hermanito_es_una_pelota_de_gritos, Length: 470, dtype: object"
      ]
     },
     "metadata": {},
     "execution_count": 11
    }
   ],
   "source": [
    "secundaria.iloc[:,13]"
   ]
  },
  {
   "cell_type": "code",
   "execution_count": 12,
   "metadata": {},
   "outputs": [],
   "source": [
    "datos_secundaria = pd.DataFrame({\n",
    "    'pelota_gritos_respuesta': secundaria.iloc[:,13],\n",
    "    'pelota_gritos_label' : secundaria.iloc[:,14],\n",
    "    'pelota_pelos_respuesta' : secundaria.iloc[:,15],\n",
    "    'pelota_pelos_label' : secundaria.iloc[:,16],\n",
    "    'pelota_plata_respuesta' : secundaria.iloc[:,17],\n",
    "    'pelota_plata_label' : secundaria.iloc[:,18]\n",
    "})"
   ]
  },
  {
   "cell_type": "code",
   "execution_count": 13,
   "metadata": {},
   "outputs": [
    {
     "output_type": "execute_result",
     "data": {
      "text/plain": [
       "                               pelota_gritos_respuesta  pelota_gritos_label  \\\n",
       "0                             por que hace mucho ruido                    3   \n",
       "1    que es un hermano que grita mucho más de lo no...                    3   \n",
       "2                           que es una persona gritona                    3   \n",
       "3                           porque el niño grita mucho                    3   \n",
       "4                                        es muy gritón                    3   \n",
       "..                                                 ...                  ...   \n",
       "465                           mi hermanito grita mucho                    3   \n",
       "466         puede significar que el hermano es ruidoso                    3   \n",
       "467                                    que grita mucho                    3   \n",
       "468  esta usando la palabra pelota para todo así qu...                    3   \n",
       "469                         es un niño que grita mucho                    3   \n",
       "\n",
       "                                pelota_pelos_respuesta  pelota_pelos_label  \\\n",
       "0                                 por que tiene melena                   3   \n",
       "1                               porque si mas que nada                   1   \n",
       "2                                                   ns                   3   \n",
       "3                         por que se le pegan al balón                   1   \n",
       "4    porque trata decir que es un gato y vomita y s...                   1   \n",
       "..                                                 ...                 ...   \n",
       "465                           porque ambos tienen pelo                   1   \n",
       "466  porque en el poema una pelota de pelos podría ...                   1   \n",
       "467  porque tiene mucho pelo y se puede decir de ma...                   3   \n",
       "468                                                  0                   3   \n",
       "469                                                  0                   1   \n",
       "\n",
       "                                pelota_plata_respuesta  pelota_plata_label  \n",
       "0                                que es dura o aguanta                   1  \n",
       "1    puede ser una medalla o una esfera color metál...                   1  \n",
       "2                                             una joya                   1  \n",
       "3                         seria muy brillosa la pelota                   2  \n",
       "4               da a conocer que que es uno muy fuerte                   3  \n",
       "..                                                 ...                 ...  \n",
       "465        pues tal vez la medalla esta llena de plata                   1  \n",
       "466  yo puse que la frase se podría referir a la lu...                   3  \n",
       "467                                   que es brillante                   3  \n",
       "468  porque ya establecimos que a todo le esta dici...                   1  \n",
       "469  la luna se ve como de plata o color plata y br...                   3  \n",
       "\n",
       "[470 rows x 6 columns]"
      ],
      "text/html": "<div>\n<style scoped>\n    .dataframe tbody tr th:only-of-type {\n        vertical-align: middle;\n    }\n\n    .dataframe tbody tr th {\n        vertical-align: top;\n    }\n\n    .dataframe thead th {\n        text-align: right;\n    }\n</style>\n<table border=\"1\" class=\"dataframe\">\n  <thead>\n    <tr style=\"text-align: right;\">\n      <th></th>\n      <th>pelota_gritos_respuesta</th>\n      <th>pelota_gritos_label</th>\n      <th>pelota_pelos_respuesta</th>\n      <th>pelota_pelos_label</th>\n      <th>pelota_plata_respuesta</th>\n      <th>pelota_plata_label</th>\n    </tr>\n  </thead>\n  <tbody>\n    <tr>\n      <th>0</th>\n      <td>por que hace mucho ruido</td>\n      <td>3</td>\n      <td>por que tiene melena</td>\n      <td>3</td>\n      <td>que es dura o aguanta</td>\n      <td>1</td>\n    </tr>\n    <tr>\n      <th>1</th>\n      <td>que es un hermano que grita mucho más de lo no...</td>\n      <td>3</td>\n      <td>porque si mas que nada</td>\n      <td>1</td>\n      <td>puede ser una medalla o una esfera color metál...</td>\n      <td>1</td>\n    </tr>\n    <tr>\n      <th>2</th>\n      <td>que es una persona gritona</td>\n      <td>3</td>\n      <td>ns</td>\n      <td>3</td>\n      <td>una joya</td>\n      <td>1</td>\n    </tr>\n    <tr>\n      <th>3</th>\n      <td>porque el niño grita mucho</td>\n      <td>3</td>\n      <td>por que se le pegan al balón</td>\n      <td>1</td>\n      <td>seria muy brillosa la pelota</td>\n      <td>2</td>\n    </tr>\n    <tr>\n      <th>4</th>\n      <td>es muy gritón</td>\n      <td>3</td>\n      <td>porque trata decir que es un gato y vomita y s...</td>\n      <td>1</td>\n      <td>da a conocer que que es uno muy fuerte</td>\n      <td>3</td>\n    </tr>\n    <tr>\n      <th>...</th>\n      <td>...</td>\n      <td>...</td>\n      <td>...</td>\n      <td>...</td>\n      <td>...</td>\n      <td>...</td>\n    </tr>\n    <tr>\n      <th>465</th>\n      <td>mi hermanito grita mucho</td>\n      <td>3</td>\n      <td>porque ambos tienen pelo</td>\n      <td>1</td>\n      <td>pues tal vez la medalla esta llena de plata</td>\n      <td>1</td>\n    </tr>\n    <tr>\n      <th>466</th>\n      <td>puede significar que el hermano es ruidoso</td>\n      <td>3</td>\n      <td>porque en el poema una pelota de pelos podría ...</td>\n      <td>1</td>\n      <td>yo puse que la frase se podría referir a la lu...</td>\n      <td>3</td>\n    </tr>\n    <tr>\n      <th>467</th>\n      <td>que grita mucho</td>\n      <td>3</td>\n      <td>porque tiene mucho pelo y se puede decir de ma...</td>\n      <td>3</td>\n      <td>que es brillante</td>\n      <td>3</td>\n    </tr>\n    <tr>\n      <th>468</th>\n      <td>esta usando la palabra pelota para todo así qu...</td>\n      <td>3</td>\n      <td>0</td>\n      <td>3</td>\n      <td>porque ya establecimos que a todo le esta dici...</td>\n      <td>1</td>\n    </tr>\n    <tr>\n      <th>469</th>\n      <td>es un niño que grita mucho</td>\n      <td>3</td>\n      <td>0</td>\n      <td>1</td>\n      <td>la luna se ve como de plata o color plata y br...</td>\n      <td>3</td>\n    </tr>\n  </tbody>\n</table>\n<p>470 rows × 6 columns</p>\n</div>"
     },
     "metadata": {},
     "execution_count": 13
    }
   ],
   "source": [
    "datos_secundaria"
   ]
  }
 ]
}